{
  "nbformat": 4,
  "nbformat_minor": 0,
  "metadata": {
    "colab": {
      "provenance": []
    },
    "kernelspec": {
      "name": "python3",
      "display_name": "Python 3"
    },
    "language_info": {
      "name": "python"
    }
  },
  "cells": [
    {
      "cell_type": "markdown",
      "source": [
        "# Ejemplo 1: Separación de datos"
      ],
      "metadata": {
        "id": "1mtdBy-6GrXW"
      }
    },
    {
      "cell_type": "code",
      "source": [
        "from sklearn.datasets import load_iris\n",
        "from sklearn.model_selection import train_test_split"
      ],
      "metadata": {
        "id": "nZeVpaDtGuyg"
      },
      "execution_count": 2,
      "outputs": []
    },
    {
      "cell_type": "code",
      "source": [
        "# Cargar el conjunto de datos Iris\n",
        "data = load_iris()\n",
        "X = data.data  # Características (atributos)\n",
        "y = data.target  # Etiquetas (clases)"
      ],
      "metadata": {
        "id": "gFbeFCLeG2Uh"
      },
      "execution_count": 3,
      "outputs": []
    },
    {
      "cell_type": "markdown",
      "source": [
        "Haremos lo siguiente:\n",
        "\n",
        "![image](https://github.com/beduExpert/C1-Machine-Learning-2020/raw/master/Sesion-02/imgassets/Partitions2.png)"
      ],
      "metadata": {
        "id": "MnaZVOIhHKEF"
      }
    },
    {
      "cell_type": "code",
      "source": [
        "# Dividir los datos en conjuntos de entrenamiento, validación y prueba\n",
        "# Primero, dividimos en conjunto de entrenamiento y el resto (que luego se dividirá en validación y prueba)\n",
        "X_train, X_temp, y_train, y_temp = train_test_split(X, y, test_size=0.3, random_state=42)"
      ],
      "metadata": {
        "id": "UYbRy9fAGygI"
      },
      "execution_count": 4,
      "outputs": []
    },
    {
      "cell_type": "code",
      "source": [
        "# Luego, dividimos el conjunto temporal (30%) en conjuntos de validación y prueba (50% cada uno)\n",
        "X_val, X_test, y_val, y_test = train_test_split(X_temp, y_temp, test_size=0.5, random_state=42)"
      ],
      "metadata": {
        "id": "0p2_o4P-G5Ug"
      },
      "execution_count": 5,
      "outputs": []
    },
    {
      "cell_type": "code",
      "source": [
        "# Ahora tienes los siguientes conjuntos de datos:\n",
        "# - X_train: Características de entrenamiento\n",
        "# - y_train: Etiquetas de entrenamiento\n",
        "# - X_val: Características de validación\n",
        "# - y_val: Etiquetas de validación\n",
        "# - X_test: Características de prueba\n",
        "# - y_test: Etiquetas de prueba\n",
        "\n",
        "# Puedes imprimir las longitudes de los conjuntos de datos para verificar\n",
        "print(\"Tamaño del conjunto de entrenamiento:\", len(X_train))\n",
        "print(\"Tamaño del conjunto de validación:\", len(X_val))\n",
        "print(\"Tamaño del conjunto de prueba:\", len(X_test))"
      ],
      "metadata": {
        "colab": {
          "base_uri": "https://localhost:8080/"
        },
        "id": "cBpQwtE2G8kO",
        "outputId": "d35dca63-3b7e-4961-da35-0e49fd09057d"
      },
      "execution_count": 6,
      "outputs": [
        {
          "output_type": "stream",
          "name": "stdout",
          "text": [
            "Tamaño del conjunto de entrenamiento: 105\n",
            "Tamaño del conjunto de validación: 22\n",
            "Tamaño del conjunto de prueba: 23\n"
          ]
        }
      ]
    }
  ]
}