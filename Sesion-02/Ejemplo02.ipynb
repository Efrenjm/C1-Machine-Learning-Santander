{
  "nbformat": 4,
  "nbformat_minor": 0,
  "metadata": {
    "colab": {
      "provenance": []
    },
    "kernelspec": {
      "name": "python3",
      "display_name": "Python 3"
    },
    "language_info": {
      "name": "python"
    }
  },
  "cells": [
    {
      "cell_type": "markdown",
      "source": [
        "# Ejemplo 2: Validación cruzada"
      ],
      "metadata": {
        "id": "1mtdBy-6GrXW"
      }
    },
    {
      "cell_type": "code",
      "source": [
        "import numpy as np\n",
        "from sklearn.model_selection import KFold"
      ],
      "metadata": {
        "id": "gFbeFCLeG2Uh"
      },
      "execution_count": 15,
      "outputs": []
    },
    {
      "cell_type": "code",
      "source": [
        "# Generar datos de ejemplo (100 muestras)\n",
        "X = np.random.rand(100, 5)  # Características\n",
        "y = np.random.randint(2, size=100)  # Etiquetas binarias (0 o 1)"
      ],
      "metadata": {
        "id": "QnsA7l4zLNe4"
      },
      "execution_count": 16,
      "outputs": []
    },
    {
      "cell_type": "code",
      "source": [
        "# Definir el número de pliegues para la validación cruzada\n",
        "num_pliegues = 5"
      ],
      "metadata": {
        "id": "C8wbvpbXLTzb"
      },
      "execution_count": 17,
      "outputs": []
    },
    {
      "cell_type": "code",
      "source": [
        "# Crear un objeto KFold para dividir los datos en pliegues\n",
        "kf = KFold(n_splits=num_pliegues, shuffle=True, random_state=42)"
      ],
      "metadata": {
        "id": "Sb67kRBeLWdY"
      },
      "execution_count": 18,
      "outputs": []
    },
    {
      "cell_type": "code",
      "source": [
        "# Realizar validación cruzada\n",
        "for i, (train_indices, test_indices) in enumerate(kf.split(X)):\n",
        "    X_entrenamiento, X_prueba = X[train_indices], X[test_indices]\n",
        "    y_entrenamiento, y_prueba = y[train_indices], y[test_indices]\n",
        "\n",
        "    # Imprimir información sobre el pliegue actual\n",
        "    print(f\"Pliegue {i + 1}:\")\n",
        "    print(f\"Tamaño del conjunto de entrenamiento: {len(X_entrenamiento)}\")\n",
        "    print(f\"Tamaño del conjunto de prueba: {len(X_prueba)}\")\n",
        "    print(\"\\n\")"
      ],
      "metadata": {
        "id": "UYbRy9fAGygI",
        "colab": {
          "base_uri": "https://localhost:8080/"
        },
        "outputId": "676344a2-9b45-429f-aaf5-5e0d69aa4bc2"
      },
      "execution_count": 19,
      "outputs": [
        {
          "output_type": "stream",
          "name": "stdout",
          "text": [
            "Pliegue 1:\n",
            "Tamaño del conjunto de entrenamiento: 80\n",
            "Tamaño del conjunto de prueba: 20\n",
            "\n",
            "\n",
            "Pliegue 2:\n",
            "Tamaño del conjunto de entrenamiento: 80\n",
            "Tamaño del conjunto de prueba: 20\n",
            "\n",
            "\n",
            "Pliegue 3:\n",
            "Tamaño del conjunto de entrenamiento: 80\n",
            "Tamaño del conjunto de prueba: 20\n",
            "\n",
            "\n",
            "Pliegue 4:\n",
            "Tamaño del conjunto de entrenamiento: 80\n",
            "Tamaño del conjunto de prueba: 20\n",
            "\n",
            "\n",
            "Pliegue 5:\n",
            "Tamaño del conjunto de entrenamiento: 80\n",
            "Tamaño del conjunto de prueba: 20\n",
            "\n",
            "\n"
          ]
        }
      ]
    },
    {
      "cell_type": "markdown",
      "source": [
        "En este ejemplo, se utiliza KFold para dividir manualmente los datos en pliegues y obtener conjuntos de entrenamiento y prueba en cada iteración de la validación cruzada.\n"
      ],
      "metadata": {
        "id": "whBpq0-sMHKK"
      }
    },
    {
      "cell_type": "markdown",
      "source": [
        "En este código:\n",
        "\n",
        "1. Generamos datos de ejemplo con 100 muestras y 5 características.\n",
        "\n",
        "1. Definimos el número de pliegues para la validación cruzada (en este caso, 5 pliegues).\n",
        "\n",
        "1. Utilizamos el objeto KFold de Scikit-Learn para dividir los datos en pliegues. El argumento `shuffle=True` garantiza que los datos se mezclen antes de la división, y random_state hace que la división sea reproducible.\n",
        "\n",
        "- En cada iteración del bucle, obtenemos conjuntos de entrenamiento y prueba utilizando los índices generados por `kf.split()`. Luego, imprimimos información sobre la división de datos en cada pliegue.\n",
        "\n",
        "Este ejemplo ilustra cómo realizar la separación de datos en conjuntos de entrenamiento y prueba utilizando validación cruzada sin enfocarnos en el entrenamiento de un modelo específico ni en la evaluación del mismo."
      ],
      "metadata": {
        "id": "Fugu7ELYMK3m"
      }
    }
  ]
}