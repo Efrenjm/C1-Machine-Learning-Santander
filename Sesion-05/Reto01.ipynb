{
  "nbformat": 4,
  "nbformat_minor": 0,
  "metadata": {
    "colab": {
      "provenance": []
    },
    "kernelspec": {
      "name": "python3",
      "display_name": "Python 3"
    },
    "language_info": {
      "name": "python"
    }
  },
  "cells": [
    {
      "cell_type": "markdown",
      "source": [
        "# Reto 01: Árboles de decisión\n",
        "\n",
        "## Objetivo\n",
        "\n",
        "El objetivo de este ejercicio es familiarizarse con el uso de árboles de decisión en Python, aplicando conceptos como la separación en entrenamiento y prueba, la validación cruzada y la evaluación de la precisión del modelo.\n",
        "\n",
        "## Instrucciones\n",
        "\n",
        "1. Importa las bibliotecas necesarias, incluyendo `numpy`, `pandas`, `sklearn.datasets`, `train_test_split`, `DecisionTreeClassifier`, y `cross_val_score`.\n",
        "\n",
        "1. Carga el conjunto de datos Iris utilizando `load_iris()` de `sklearn.datasets`. Las características se encuentran en `data.data` y las etiquetas en `data.target`.\n",
        "\n",
        "1. Divide los datos en conjuntos de entrenamiento (80%) y prueba (20%) utilizando `train_test_split`. Asegúrate de establecer una semilla aleatoria (`random_state`) para reproducibilidad.\n",
        "\n",
        "1. Crea un modelo de árbol de decisión (`DecisionTreeClassifier`) y entrena el modelo en el conjunto de entrenamiento.\n",
        "\n",
        "1. Realiza predicciones en el conjunto de prueba.\n",
        "\n",
        "1. Calcula la precisión del modelo comparando las predicciones con las etiquetas reales utilizando la función `accuracy_score` de `sklearn.metrics`.\n",
        "\n",
        "1. Realiza validación cruzada con 5-fold cross-validation utilizando `cross_val_score` y calcula la precisión promedio y la desviación estándar.\n",
        "\n",
        "1. Imprime la precisión del modelo en el conjunto de prueba y la precisión de validación cruzada junto con sus desviaciones estándar.\n",
        "\n",
        "Experimenta ajustando los parámetros del árbol de decisión, como la profundidad máxima (`max_depth`) o el criterio de división (`criterion`), y observa cómo afecta a la precisión del modelo.\n",
        "\n",
        "Este reto te ayudará a comprender cómo se construye, entrena y evalúa un modelo de árbol de decisión en Python, y cómo la validación cruzada puede proporcionar una estimación más robusta de su rendimiento."
      ],
      "metadata": {
        "id": "xsZ7M8UxIJ5w"
      }
    }
  ]
}