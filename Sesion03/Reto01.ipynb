{
  "nbformat": 4,
  "nbformat_minor": 0,
  "metadata": {
    "colab": {
      "provenance": []
    },
    "kernelspec": {
      "name": "python3",
      "display_name": "Python 3"
    },
    "language_info": {
      "name": "python"
    }
  },
  "cells": [
    {
      "cell_type": "markdown",
      "source": [
        "# Reto 01: Kmeans\n",
        "\n",
        "## Objetivo\n",
        "Aplicar K-Means con validación cruzada en el conjunto de datos Iris y evaluar su rendimiento utilizando métricas como el coeficiente de silueta y el índice de Calinski-Harabasz.\n"
      ],
      "metadata": {
        "id": "xsZ7M8UxIJ5w"
      }
    },
    {
      "cell_type": "markdown",
      "source": [
        "1. Carga el conjunto de datos Iris y escala las características.\n",
        "\n",
        "1. Prueba diferentes valores de K (número de clusters) para K-Means y realiza validación cruzada para cada valor.\n",
        "\n",
        "1. Calcula el coeficiente de silueta y el índice de Calinski-Harabasz para cada valor de K. Recuerda que parte de tu misión como Científicx de Datos es investigar. Investiga qué es este índice y cómo lo puedes usar.\n",
        "\n",
        "1. Visualiza las puntuaciones de estas métricas para ayudarte a seleccionar el valor óptimo de K.\n",
        "\n",
        "1. Imprime el valor óptimo de K y la mejor puntuación de ambas métricas."
      ],
      "metadata": {
        "id": "H0kCuaRdIiL5"
      }
    }
  ]
}