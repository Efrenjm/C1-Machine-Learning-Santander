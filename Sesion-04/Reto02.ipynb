{
  "nbformat": 4,
  "nbformat_minor": 0,
  "metadata": {
    "colab": {
      "provenance": []
    },
    "kernelspec": {
      "name": "python3",
      "display_name": "Python 3"
    },
    "language_info": {
      "name": "python"
    }
  },
  "cells": [
    {
      "cell_type": "markdown",
      "source": [
        "# Reto 02: Regresión polinomial\n",
        "\n",
        "## Objetivos\n",
        "1. Realizar una regresión polinomial para predecir el valor medio de las viviendas en California.\n",
        "1. Dividir los datos en conjuntos de entrenamiento y prueba.\n",
        "1. Utilizar validación cruzada para evaluar el rendimiento del modelo.\n",
        "1. Evaluar el rendimiento del modelo utilizando el error cuadrático medio (MSE).\n",
        "\n",
        "El reto consiste en modificar tu solución al Reto 1 pero ahora con una regresión polinomial. Intenta aplicar un ajuste de grado 3. Prueba después con otros grados.\n"
      ],
      "metadata": {
        "id": "xsZ7M8UxIJ5w"
      }
    },
    {
      "cell_type": "code",
      "source": [
        "# Ejecuta las siguientes celdas para confirmar tus resultados.\n",
        "\n",
        "plt.scatter(X_test, y_test, label='Datos originales', color='blue')\n",
        "plt.scatter(X_test, y_pred, label='Predicciones', color='red', marker='x')\n",
        "plt.xlabel('Ingreso Medio')\n",
        "plt.ylabel('MedHouseVal')\n",
        "plt.title('Predicciones de Regresión Polinomial')\n",
        "plt.legend()\n",
        "plt.show()\n",
        "\n",
        "print(\"MSE en conjunto de prueba:\", mse)\n",
        "print(\"MSE con validación cruzada:\", mse_cv)"
      ],
      "metadata": {
        "id": "ADpxh8djyfQ0"
      },
      "execution_count": null,
      "outputs": []
    }
  ]
}