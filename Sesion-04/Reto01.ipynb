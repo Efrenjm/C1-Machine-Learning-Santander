{
  "nbformat": 4,
  "nbformat_minor": 0,
  "metadata": {
    "colab": {
      "provenance": []
    },
    "kernelspec": {
      "name": "python3",
      "display_name": "Python 3"
    },
    "language_info": {
      "name": "python"
    }
  },
  "cells": [
    {
      "cell_type": "markdown",
      "source": [
        "# Reto 01: Regresión lineal\n",
        "\n",
        "## Objetivos\n",
        "1. Realizar un análisis de regresión lineal avanzado utilizando el conjunto de datos de viviendas en California.\n",
        "1. Separar los datos en conjuntos de entrenamiento y prueba.\n",
        "1. Entrenar un modelo de regresión lineal en el conjunto de entrenamiento.\n",
        "1. Realizar predicciones en el conjunto de prueba y evaluar el rendimiento del modelo.\n",
        "1. Realizar una validación cruzada para obtener una estimación robusta del rendimiento.\n",
        "1. Visualizar la correlación entre las características utilizando un mapa de calor.\n"
      ],
      "metadata": {
        "id": "xsZ7M8UxIJ5w"
      }
    },
    {
      "cell_type": "code",
      "source": [
        "# Importa las bibliotecas necesarias al principio de tu script Python\n"
      ],
      "metadata": {
        "id": "2JsaD4lbxryV"
      },
      "execution_count": 1,
      "outputs": []
    },
    {
      "cell_type": "code",
      "source": [
        "# Carga el conjunto de datos de viviendas en California utilizando\n",
        "# fetch_california_housing() y almacénalo en variables X y y. X contendrá las\n",
        "# características y y contendrá los valores objetivo (valores medios de las\n",
        "# casas).\n"
      ],
      "metadata": {
        "id": "GEDJ-qLUyEbJ"
      },
      "execution_count": null,
      "outputs": []
    },
    {
      "cell_type": "code",
      "source": [
        "# Divide el conjunto de datos en conjuntos de entrenamiento y prueba utilizando\n",
        "# train_test_split(). Puedes ajustar el tamaño del conjunto de prueba según tus\n",
        "# necesidades.\n"
      ],
      "metadata": {
        "id": "F70UDx3xyL1J"
      },
      "execution_count": null,
      "outputs": []
    },
    {
      "cell_type": "code",
      "source": [
        "# Crea un modelo de regresión lineal utilizando LinearRegression().\n"
      ],
      "metadata": {
        "id": "TkSviujmyQGD"
      },
      "execution_count": null,
      "outputs": []
    },
    {
      "cell_type": "code",
      "source": [
        "# Realiza predicciones en el conjunto de prueba utilizando predict().\n"
      ],
      "metadata": {
        "id": "urqBVvFVyTRc"
      },
      "execution_count": null,
      "outputs": []
    },
    {
      "cell_type": "code",
      "source": [
        "# Calcula el error cuadrático medio (MSE) y el coeficiente de determinación\n",
        "# (R^2) para evaluar el rendimiento del modelo en el conjunto de prueba.\n"
      ],
      "metadata": {
        "id": "nKy_PvEXyWeP"
      },
      "execution_count": null,
      "outputs": []
    },
    {
      "cell_type": "code",
      "source": [
        "# Realiza una validación cruzada con 5 pliegues para obtener una estimación\n",
        "# robusta del rendimiento del modelo. Calcula el MSE promedio con validación\n",
        "# cruzada.\n"
      ],
      "metadata": {
        "id": "3-kZKk8qyaOI"
      },
      "execution_count": null,
      "outputs": []
    },
    {
      "cell_type": "code",
      "source": [
        "# Ejecuta las siguientes celdas para confirmar tus resultados.\n",
        "\n",
        "correlation_matrix = X.corr()\n",
        "plt.figure(figsize=(12, 10))\n",
        "sns.heatmap(correlation_matrix, annot=True, cmap='coolwarm', fmt=\".2f\")\n",
        "plt.title('Mapa de Calor de Correlación')\n",
        "plt.show()\n",
        "\n",
        "print(\"MSE en conjunto de prueba:\", mse)\n",
        "print(\"R^2 en conjunto de prueba:\", r2)\n",
        "print(\"MSE con validación cruzada:\", mse_cv)\n"
      ],
      "metadata": {
        "id": "ADpxh8djyfQ0"
      },
      "execution_count": null,
      "outputs": []
    }
  ]
}