{
  "cells": [
    {
      "cell_type": "markdown",
      "metadata": {
        "id": "UPMtkS8rJd5H"
      },
      "source": [
        "# Ejemplo 01\n",
        "\n",
        "En este ejemplo veremos como un clasificador de una sola neurona falla terriblemente al intentar tratar de clasificar el problema del XOR"
      ]
    },
    {
      "cell_type": "code",
      "execution_count": 1,
      "metadata": {
        "collapsed": true,
        "id": "39n-4iEXJd5L"
      },
      "outputs": [],
      "source": [
        "import numpy as np\n",
        "from sklearn.linear_model import SGDClassifier"
      ]
    },
    {
      "cell_type": "markdown",
      "metadata": {
        "id": "SgGhGz73Jd5M"
      },
      "source": [
        "### Implementando un AND\n",
        "Recordemos que la tabla de AND es:\n",
        "\n",
        "0 AND 0 = 0\n",
        "\n",
        "0 AND 1 = 0\n",
        "\n",
        "1 AND 0 = 0\n",
        "\n",
        "1 AND 1 = 1"
      ]
    },
    {
      "cell_type": "code",
      "execution_count": 2,
      "metadata": {
        "id": "7EZP5o9WJd5M",
        "outputId": "f0f3eeec-8860-472a-f382-505ff86a4ea5",
        "colab": {
          "base_uri": "https://localhost:8080/"
        }
      },
      "outputs": [
        {
          "output_type": "stream",
          "name": "stdout",
          "text": [
            "Entradas:[[0 0]\n",
            " [0 1]\n",
            " [1 0]\n",
            " [1 1]]\n",
            "Resultados AND:[0 0 0 1]\n"
          ]
        }
      ],
      "source": [
        "X = np.array([[0,0],[0,1],[1,0],[1,1]])\n",
        "Y = np.array([0,0,0,1])\n",
        "\n",
        "model = SGDClassifier(max_iter=1000, tol=1e-3)\n",
        "model.fit(X, Y)\n",
        "results = model.predict(X)\n",
        "print(\"Entradas:\"+str(X))\n",
        "print(\"Resultados AND:\"+str(results))"
      ]
    },
    {
      "cell_type": "markdown",
      "metadata": {
        "id": "4Ps5Sh41Jd5N"
      },
      "source": [
        "### Implementando un OR\n",
        "Recordemos que la tabla de OR es:\n",
        "\n",
        "0 OR 0 = 0\n",
        "\n",
        "0 OR 1 = 1\n",
        "\n",
        "1 OR 0 = 1\n",
        "\n",
        "1 OR 1 = 1"
      ]
    },
    {
      "cell_type": "code",
      "execution_count": 3,
      "metadata": {
        "id": "glyqpWrgJd5O",
        "outputId": "1bdb7e67-738b-40e0-fdbe-b509e387557a",
        "colab": {
          "base_uri": "https://localhost:8080/"
        }
      },
      "outputs": [
        {
          "output_type": "stream",
          "name": "stdout",
          "text": [
            "Entradas:[[0 0]\n",
            " [0 1]\n",
            " [1 0]\n",
            " [1 1]]\n",
            "Resultados OR:[0 1 1 1]\n"
          ]
        }
      ],
      "source": [
        "X = np.array([[0,0],[0,1],[1,0],[1,1]])\n",
        "Y = np.array([0,1,1,1])\n",
        "\n",
        "model = SGDClassifier(max_iter=1000, tol=1e-3)\n",
        "model.fit(X, Y)\n",
        "results = model.predict(X)\n",
        "print(\"Entradas:\"+str(X))\n",
        "print(\"Resultados OR:\"+str(results))"
      ]
    },
    {
      "cell_type": "markdown",
      "metadata": {
        "id": "kQe4RgBZJd5O"
      },
      "source": [
        "### Implementando un NOT\n",
        "Recordemos que la tabla de NOT es:\n",
        "\n",
        "NOT 0 = 1\n",
        "\n",
        "NOT 1 = 0"
      ]
    },
    {
      "cell_type": "code",
      "execution_count": 4,
      "metadata": {
        "id": "UMXzvNYDJd5O",
        "outputId": "e2859c23-f167-4b23-ab6b-d53015f1de4a",
        "colab": {
          "base_uri": "https://localhost:8080/"
        }
      },
      "outputs": [
        {
          "output_type": "stream",
          "name": "stdout",
          "text": [
            "Entradas:[[0]\n",
            " [1]]\n",
            "Resultados NOT:[1 0]\n"
          ]
        }
      ],
      "source": [
        "X = np.array([[0],[1]])\n",
        "Y = np.array([1,0])\n",
        "\n",
        "model = SGDClassifier(max_iter=1000, tol=1e-3)\n",
        "model.fit(X, Y)\n",
        "results = model.predict(X)\n",
        "print(\"Entradas:\"+str(X))\n",
        "print(\"Resultados NOT:\"+str(results))"
      ]
    },
    {
      "cell_type": "markdown",
      "metadata": {
        "id": "TjWMEi86Jd5P"
      },
      "source": [
        "### Implementando un XOR (y fallando en el proceso)\n",
        "Recordemos que la tabla de XOR es:\n",
        "\n",
        "0 XOR 0 = 0\n",
        "\n",
        "0 XOR 1 = 1\n",
        "\n",
        "1 XOR 0 = 1\n",
        "\n",
        "1 XOR 1 = 0"
      ]
    },
    {
      "cell_type": "code",
      "execution_count": 5,
      "metadata": {
        "id": "elrJrSp6Jd5P",
        "outputId": "db69f826-2e8a-4d6b-e432-2c31333b91c9",
        "colab": {
          "base_uri": "https://localhost:8080/"
        }
      },
      "outputs": [
        {
          "output_type": "stream",
          "name": "stdout",
          "text": [
            "Entradas:[[0 0]\n",
            " [0 1]\n",
            " [1 0]\n",
            " [1 1]]\n",
            "Resultados XOR:[1 0 1 0]\n"
          ]
        }
      ],
      "source": [
        "X = np.array([[0,0],[0,1],[1,0],[1,1]])\n",
        "Y = np.array([0,1,1,0])\n",
        "\n",
        "model = SGDClassifier(max_iter=1000, tol=1e-3)\n",
        "model.fit(X, Y)\n",
        "results = model.predict(X)\n",
        "print(\"Entradas:\"+str(X))\n",
        "print(\"Resultados XOR:\"+str(results))"
      ]
    },
    {
      "cell_type": "code",
      "execution_count": 5,
      "metadata": {
        "collapsed": true,
        "id": "8qLDMCrKJd5Q"
      },
      "outputs": [],
      "source": []
    }
  ],
  "metadata": {
    "kernelspec": {
      "display_name": "Python 3",
      "language": "python",
      "name": "python3"
    },
    "language_info": {
      "codemirror_mode": {
        "name": "ipython",
        "version": 3
      },
      "file_extension": ".py",
      "mimetype": "text/x-python",
      "name": "python",
      "nbconvert_exporter": "python",
      "pygments_lexer": "ipython3",
      "version": "3.6.2"
    },
    "colab": {
      "provenance": []
    }
  },
  "nbformat": 4,
  "nbformat_minor": 0
}