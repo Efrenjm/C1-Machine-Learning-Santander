{
  "cells": [
    {
      "cell_type": "markdown",
      "metadata": {
        "id": "grN0NTYHJr_E"
      },
      "source": [
        "# Ejemplo 02\n",
        "\n",
        "En este ejemplo veremos como se comportan las funciones de activación sigmoidal y tangencial. Para ello, vamos a reproducir el código del primer ejemplo y el primer reto, y sobre ese iremos modificando."
      ]
    },
    {
      "cell_type": "code",
      "execution_count": 1,
      "metadata": {
        "collapsed": true,
        "id": "ZGBQ4YUhJr_H"
      },
      "outputs": [],
      "source": [
        "import numpy as np"
      ]
    },
    {
      "cell_type": "markdown",
      "metadata": {
        "id": "8vYY_h4pJr_I"
      },
      "source": [
        "Primero vamos a calcular la variable Z, esta función no va a cambiar para nada, así que se deja tal cual está."
      ]
    },
    {
      "cell_type": "code",
      "execution_count": 2,
      "metadata": {
        "collapsed": true,
        "id": "nmt34o_fJr_J"
      },
      "outputs": [],
      "source": [
        "def calcularZ(w,x,b):\n",
        "    return np.dot(w,x)+b"
      ]
    },
    {
      "cell_type": "markdown",
      "metadata": {
        "id": "KKllmvrEJr_J"
      },
      "source": [
        "Luego la función de activación (lineal) y la neurona que creamos en el reto 01. hasta aquí vamos en lo mismo que el reto 01."
      ]
    },
    {
      "cell_type": "code",
      "execution_count": 3,
      "metadata": {
        "collapsed": true,
        "id": "EvFvnTEWJr_K"
      },
      "outputs": [],
      "source": [
        "def activacion(z):\n",
        "    return z\n",
        "\n",
        "def neurona(w,x,b):\n",
        "    return activacion(calcularZ(w,x,b))"
      ]
    },
    {
      "cell_type": "markdown",
      "metadata": {
        "id": "yZ6YrOZbJr_K"
      },
      "source": [
        "### Activación sigmoidal\n",
        "La activación sigmoidal te da un valor entre 0 y 1, con la siguiente función:\n",
        "\n",
        "$y = g(z) = \\frac{1}{1+e^{-z}}$\n",
        "\n",
        "Esta función es util por tres razones:\n",
        "\n",
        "1) Cuando $Z = 0$ hacen que $Y = 0.5$,\n",
        "\n",
        "2) Valores muy grandes de Z hacen que Y se acerque mucho a 1, y\n",
        "\n",
        "3) Valores negativos muy grandes de Z hacen que Y se acerque mucho a 0 (como se vio en clase)."
      ]
    },
    {
      "cell_type": "code",
      "execution_count": 4,
      "metadata": {
        "collapsed": true,
        "id": "VeQTWPRJJr_L"
      },
      "outputs": [],
      "source": [
        "def activacionSigmoide(z):\n",
        "    return 1 / (1 + np.exp(-z))\n",
        "\n",
        "def neuronaSigmoide(w,x,b):\n",
        "    return activacionSigmoide(calcularZ(w,x,b))"
      ]
    },
    {
      "cell_type": "markdown",
      "metadata": {
        "id": "vIdXN17kJr_L"
      },
      "source": [
        "Por ejemplo, que pasa si comparamos una salida neuronal lineal vs una sigmoidal?\n",
        "Si 0 es negativo, y 1 es positivo, valores muy cercanos a 1 pueden ser tomados como positivos.\n",
        "En probabilidades, 0.975 de probabilidad (97.5%)"
      ]
    },
    {
      "cell_type": "code",
      "execution_count": 5,
      "metadata": {
        "id": "2nimX5TDJr_L",
        "outputId": "6feba1e2-7bc3-4657-a1f9-5ada4f815dd3",
        "colab": {
          "base_uri": "https://localhost:8080/"
        }
      },
      "outputs": [
        {
          "output_type": "stream",
          "name": "stdout",
          "text": [
            "Y Lineal:3.7\n",
            "Y sigmoide:0.9758729785823308\n"
          ]
        }
      ],
      "source": [
        "w = [1,1,1]\n",
        "x = [0.9,0.9,0.9]\n",
        "b = 1\n",
        "\n",
        "y_lineal = neurona(w,x,b)\n",
        "y_sigmoide = neuronaSigmoide(w,x,b)\n",
        "print(\"Y Lineal:\"+str(y_lineal))\n",
        "print(\"Y sigmoide:\"+str(y_sigmoide))"
      ]
    },
    {
      "cell_type": "code",
      "execution_count": 6,
      "metadata": {
        "id": "OH5oXPxEJr_M",
        "outputId": "1866638b-3762-4120-dcfa-d8684246bd42",
        "colab": {
          "base_uri": "https://localhost:8080/"
        }
      },
      "outputs": [
        {
          "output_type": "stream",
          "name": "stdout",
          "text": [
            "Y Lineal:-1.7000000000000002\n",
            "Y sigmoide:0.15446526508353467\n"
          ]
        }
      ],
      "source": [
        "w = [1,1,1]\n",
        "x = [-0.9,-0.9,-0.9]\n",
        "b = 1\n",
        "\n",
        "y_lineal = neurona(w,x,b)\n",
        "y_sigmoide = neuronaSigmoide(w,x,b)\n",
        "print(\"Y Lineal:\"+str(y_lineal))\n",
        "print(\"Y sigmoide:\"+str(y_sigmoide))"
      ]
    },
    {
      "cell_type": "markdown",
      "metadata": {
        "id": "EdTuXKiSJr_N"
      },
      "source": [
        "### Activación tangencial hiperbólica (tanh)\n",
        "La activación tangencial te da un valor entre -1 y 1, con la siguiente función:\n",
        "\n",
        "$y = g(z) = tanh(-z)$\n",
        "\n",
        "Esta función es util por tres razones:\n",
        "\n",
        "1) Cuando $Z = 0$ hacen que $Y = 0$,\n",
        "\n",
        "2) Valores muy grandes de Z hacen que Y se acerque mucho a 1, y\n",
        "\n",
        "3) Valores negativos muy grandes de Z hacen que Y se acerque mucho a -1 (como se vio en clase)."
      ]
    },
    {
      "cell_type": "code",
      "execution_count": 7,
      "metadata": {
        "collapsed": true,
        "id": "x3wJxt-yJr_N"
      },
      "outputs": [],
      "source": [
        "def activacionTanh(z):\n",
        "    return np.tanh(z)\n",
        "\n",
        "def neuronaTanh(w,x,b):\n",
        "    return activacionTanh(calcularZ(w,x,b))"
      ]
    },
    {
      "cell_type": "code",
      "execution_count": 8,
      "metadata": {
        "id": "ryoyR2B8Jr_N",
        "outputId": "033de285-d3dc-4f22-c1c6-ffd44cbd3a60",
        "colab": {
          "base_uri": "https://localhost:8080/"
        }
      },
      "outputs": [
        {
          "output_type": "stream",
          "name": "stdout",
          "text": [
            "Y Lineal:3.7\n",
            "Y sigmoide:0.9758729785823308\n",
            "Y Tangencial Hiperbólica:0.9987782412811311\n"
          ]
        }
      ],
      "source": [
        "w = [1,1,1]\n",
        "x = [0.9,0.9,0.9]\n",
        "b = 1\n",
        "\n",
        "y_lineal = neurona(w,x,b)\n",
        "y_sigmoide = neuronaSigmoide(w,x,b)\n",
        "y_tanh = neuronaTanh(w,x,b)\n",
        "print(\"Y Lineal:\"+str(y_lineal))\n",
        "print(\"Y sigmoide:\"+str(y_sigmoide))\n",
        "print(\"Y Tangencial Hiperbólica:\"+str(y_tanh))"
      ]
    },
    {
      "cell_type": "code",
      "execution_count": 9,
      "metadata": {
        "id": "ubP7ucUvJr_N",
        "outputId": "058031a0-17dc-487a-f7c9-d4ba7c40b94b",
        "colab": {
          "base_uri": "https://localhost:8080/"
        }
      },
      "outputs": [
        {
          "output_type": "stream",
          "name": "stdout",
          "text": [
            "Y Lineal:-1.7000000000000002\n",
            "Y sigmoide:0.15446526508353467\n",
            "Y Tangencial Hiperbólica:-0.9354090706030991\n"
          ]
        }
      ],
      "source": [
        "w = [1,1,1]\n",
        "x = [-0.9,-0.9,-0.9]\n",
        "b = 1\n",
        "\n",
        "y_lineal = neurona(w,x,b)\n",
        "y_sigmoide = neuronaSigmoide(w,x,b)\n",
        "y_tanh = neuronaTanh(w,x,b)\n",
        "print(\"Y Lineal:\"+str(y_lineal))\n",
        "print(\"Y sigmoide:\"+str(y_sigmoide))\n",
        "print(\"Y Tangencial Hiperbólica:\"+str(y_tanh))"
      ]
    },
    {
      "cell_type": "code",
      "execution_count": 9,
      "metadata": {
        "collapsed": true,
        "id": "kTEpBBMvJr_O"
      },
      "outputs": [],
      "source": []
    }
  ],
  "metadata": {
    "kernelspec": {
      "display_name": "Python 3",
      "language": "python",
      "name": "python3"
    },
    "language_info": {
      "codemirror_mode": {
        "name": "ipython",
        "version": 3
      },
      "file_extension": ".py",
      "mimetype": "text/x-python",
      "name": "python",
      "nbconvert_exporter": "python",
      "pygments_lexer": "ipython3",
      "version": "3.6.2"
    },
    "colab": {
      "provenance": []
    }
  },
  "nbformat": 4,
  "nbformat_minor": 0
}