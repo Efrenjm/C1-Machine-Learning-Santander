{
  "cells": [
    {
      "cell_type": "markdown",
      "metadata": {
        "id": "DgWT_KfRJyNu"
      },
      "source": [
        "# Reto 01: Funciones de activación\n",
        "\n",
        "Este reto es bastante sencillo: Crear una neurona con una función de activación simple ($y = g(z) = z$) por lo que deberás de crear tres funciones: calcularZ, calcularSalida, y unirlos en una función llamada \"neurona\""
      ]
    },
    {
      "cell_type": "code",
      "execution_count": null,
      "metadata": {
        "collapsed": true,
        "id": "66UDsSL9JyNx"
      },
      "outputs": [],
      "source": [
        "import numpy as np"
      ]
    },
    {
      "cell_type": "markdown",
      "metadata": {
        "id": "JNmGTxwxJyNy"
      },
      "source": [
        "Primero se calculará la ecuación:\n",
        "$z = w_1x_1 +w_2x_2+w_3x_3 + \\cdots + b$"
      ]
    },
    {
      "cell_type": "code",
      "execution_count": null,
      "metadata": {
        "collapsed": true,
        "id": "LQDGUXD_JyNz"
      },
      "outputs": [],
      "source": [
        "def calcularZ(w, x, b):\n",
        ""
      ]
    },
    {
      "cell_type": "code",
      "execution_count": null,
      "metadata": {
        "id": "WYwizz9QJyNz"
      },
      "outputs": [],
      "source": [
        "w = [1,2,3]\n",
        "x = [1,2,3]\n",
        "b = 4\n",
        "calcularZ(w,x,b)"
      ]
    },
    {
      "cell_type": "markdown",
      "metadata": {
        "id": "hZVsIay_JyN0"
      },
      "source": [
        "Luego se calcula la salida con $y = g(z) = z $\n",
        "\n",
        "Toma en cuenta que esta función de activación es \"dummy\", en los siguientes ejemplos se modificará esta función"
      ]
    },
    {
      "cell_type": "code",
      "execution_count": null,
      "metadata": {
        "collapsed": true,
        "id": "9f9GIwClJyN0"
      },
      "outputs": [],
      "source": [
        "def activacion(z):\n",
        ""
      ]
    },
    {
      "cell_type": "code",
      "execution_count": null,
      "metadata": {
        "id": "AIQnDrGdJyN1"
      },
      "outputs": [],
      "source": [
        "activacion(z)"
      ]
    },
    {
      "cell_type": "markdown",
      "metadata": {
        "id": "6TO4cKcbJyN1"
      },
      "source": [
        "Finalmente se calcula la neurona uniendo las dos funciones"
      ]
    },
    {
      "cell_type": "code",
      "execution_count": null,
      "metadata": {
        "collapsed": true,
        "id": "D5HBd4wAJyN1"
      },
      "outputs": [],
      "source": [
        "def neurona(w,x,b):\n",
        ""
      ]
    },
    {
      "cell_type": "code",
      "execution_count": null,
      "metadata": {
        "id": "dFyHPZkSJyN2"
      },
      "outputs": [],
      "source": [
        "w = [1,2,3]\n",
        "x = [1,2,3]\n",
        "b = 4\n",
        "neurona(w,x,b)"
      ]
    },
    {
      "cell_type": "code",
      "execution_count": null,
      "metadata": {
        "collapsed": true,
        "id": "BX89uOxLJyN2"
      },
      "outputs": [],
      "source": []
    }
  ],
  "metadata": {
    "kernelspec": {
      "display_name": "Python 3",
      "language": "python",
      "name": "python3"
    },
    "language_info": {
      "codemirror_mode": {
        "name": "ipython",
        "version": 3
      },
      "file_extension": ".py",
      "mimetype": "text/x-python",
      "name": "python",
      "nbconvert_exporter": "python",
      "pygments_lexer": "ipython3",
      "version": "3.6.2"
    },
    "colab": {
      "provenance": []
    }
  },
  "nbformat": 4,
  "nbformat_minor": 0
}