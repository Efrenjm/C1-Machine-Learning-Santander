{
  "nbformat": 4,
  "nbformat_minor": 0,
  "metadata": {
    "colab": {
      "provenance": []
    },
    "kernelspec": {
      "name": "python3",
      "display_name": "Python 3"
    },
    "language_info": {
      "name": "python"
    }
  },
  "cells": [
    {
      "cell_type": "markdown",
      "source": [
        "# Reto 02: Validación cruzada\n",
        "\n",
        "## Objetivo\n",
        "Dividir un conjunto de datos ficticio en pliegues y obtener conjuntos de entrenamiento y prueba en cada iteración de la validación cruzada."
      ],
      "metadata": {
        "id": "xsZ7M8UxIJ5w"
      }
    },
    {
      "cell_type": "markdown",
      "source": [
        "1. Genera datos ficticios o utiliza un conjunto de datos pequeño de tu elección (por ejemplo, un array de números aleatorios).\n",
        "\n",
        "1. Decide el número de muestras (por ejemplo, 100) y el número de características (por ejemplo, 4) en tu conjunto de datos.\n",
        "Validación cruzada k-fold:\n",
        "\n",
        "1. Utiliza la biblioteca Scikit-Learn para realizar una validación cruzada k-fold con `k=5`.\n",
        "\n",
        "1. Divide los datos en pliegues y obtén conjuntos de entrenamiento y prueba en cada iteración.\n",
        "\n",
        "1. Almacena los conjuntos de entrenamiento y prueba en listas o matrices para su posterior uso o inspección.\n",
        "Visualización opcional:\n",
        "\n",
        "1. Si tienes tiempo adicional, puedes imprimir información sobre los tamaños de los conjuntos en cada pliegue o visualizar algunos de los datos.\n",
        "\n",
        "Aquí tienes una plantilla de código para hacer el reto. Adaptala a las muestras que elegiste."
      ],
      "metadata": {
        "id": "H0kCuaRdIiL5"
      }
    },
    {
      "cell_type": "code",
      "source": [
        "import numpy as np\n",
        "from sklearn.model_selection import KFold\n",
        "\n",
        "# Generar datos ficticios (100 muestras, 4 características)\n",
        "X = np.random.rand(100, 4)  # Características\n",
        "y = np.random.randint(2, size=100)  # Etiquetas binarias (0 o 1)\n",
        "\n",
        "# Definir el número de pliegues para la validación cruzada (k=5)\n",
        "num_pliegues = 5\n",
        "\n",
        "# Crear un objeto KFold para dividir los datos en pliegues\n",
        "kf = KFold(n_splits=num_pliegues, shuffle=True, random_state=42)\n",
        "\n",
        "# Inicializar listas para almacenar las divisiones de entrenamiento y prueba\n",
        "conjuntos_entrenamiento = []\n",
        "conjuntos_prueba = []\n",
        "\n",
        "# Realizar validación cruzada y almacenar divisiones\n",
        "for train_indices, test_indices in kf.split(X):\n",
        "    X_entrenamiento, X_prueba = X[train_indices], X[test_indices]\n",
        "    y_entrenamiento, y_prueba = y[train_indices], y[test_indices]\n",
        "\n",
        "    conjuntos_entrenamiento.append((X_entrenamiento, y_entrenamiento))\n",
        "    conjuntos_prueba.append((X_prueba, y_prueba))\n",
        "\n",
        "# Imprimir información sobre los conjuntos de entrenamiento y prueba en cada pliegue\n",
        "for i, (X_entrenamiento, y_entrenamiento) in enumerate(conjuntos_entrenamiento):\n",
        "    X_prueba, y_prueba = conjuntos_prueba[i]\n",
        "\n",
        "    print(f\"Pliegue {i + 1}:\")\n",
        "    print(f\"Tamaño del conjunto de entrenamiento: {X_entrenamiento.shape[0]} muestras\")\n",
        "    print(f\"Tamaño del conjunto de prueba: {X_prueba.shape[0]} muestras\")\n",
        "    print(\"\\n\")"
      ],
      "metadata": {
        "id": "4UhX3_mJIhtG",
        "colab": {
          "base_uri": "https://localhost:8080/"
        },
        "outputId": "985c5982-5820-4af2-b024-869bf8bfb7c8"
      },
      "execution_count": 2,
      "outputs": [
        {
          "output_type": "stream",
          "name": "stdout",
          "text": [
            "Pliegue 1:\n",
            "Tamaño del conjunto de entrenamiento: 80 muestras\n",
            "Tamaño del conjunto de prueba: 20 muestras\n",
            "\n",
            "\n",
            "Pliegue 2:\n",
            "Tamaño del conjunto de entrenamiento: 80 muestras\n",
            "Tamaño del conjunto de prueba: 20 muestras\n",
            "\n",
            "\n",
            "Pliegue 3:\n",
            "Tamaño del conjunto de entrenamiento: 80 muestras\n",
            "Tamaño del conjunto de prueba: 20 muestras\n",
            "\n",
            "\n",
            "Pliegue 4:\n",
            "Tamaño del conjunto de entrenamiento: 80 muestras\n",
            "Tamaño del conjunto de prueba: 20 muestras\n",
            "\n",
            "\n",
            "Pliegue 5:\n",
            "Tamaño del conjunto de entrenamiento: 80 muestras\n",
            "Tamaño del conjunto de prueba: 20 muestras\n",
            "\n",
            "\n"
          ]
        }
      ]
    }
  ]
}