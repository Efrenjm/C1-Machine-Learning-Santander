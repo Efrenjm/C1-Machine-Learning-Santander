{
  "nbformat": 4,
  "nbformat_minor": 0,
  "metadata": {
    "colab": {
      "provenance": []
    },
    "kernelspec": {
      "name": "python3",
      "display_name": "Python 3"
    },
    "language_info": {
      "name": "python"
    }
  },
  "cells": [
    {
      "cell_type": "markdown",
      "source": [
        "# Ejemplo 3: Leave-out-out cross validation"
      ],
      "metadata": {
        "id": "1mtdBy-6GrXW"
      }
    },
    {
      "cell_type": "code",
      "source": [
        "import numpy as np\n"
      ],
      "metadata": {
        "id": "gFbeFCLeG2Uh"
      },
      "execution_count": 20,
      "outputs": []
    },
    {
      "cell_type": "code",
      "source": [
        "# Generar datos de ejemplo (10 puntos de datos)\n",
        "datos = np.array([1, 2, 3, 4, 5, 6, 7, 8, 9, 10])"
      ],
      "metadata": {
        "id": "QnsA7l4zLNe4"
      },
      "execution_count": 21,
      "outputs": []
    },
    {
      "cell_type": "code",
      "source": [
        "# Inicializar una lista para almacenar los resultados de LOOCV\n",
        "resultados_loocv = []"
      ],
      "metadata": {
        "id": "C8wbvpbXLTzb"
      },
      "execution_count": 22,
      "outputs": []
    },
    {
      "cell_type": "code",
      "source": [
        "# Realizar LOOCV\n",
        "for i in range(len(datos)):\n",
        "    conjunto_entrenamiento = np.delete(datos, i)  # Dejar fuera un punto de datos\n",
        "    punto_prueba = datos[i]  # Punto excluido para prueba\n",
        "    resultados_loocv.append((conjunto_entrenamiento, punto_prueba))"
      ],
      "metadata": {
        "id": "Sb67kRBeLWdY"
      },
      "execution_count": 23,
      "outputs": []
    },
    {
      "cell_type": "code",
      "source": [
        "# Imprimir resultados de LOOCV\n",
        "for i, (conjunto_entrenamiento, punto_prueba) in enumerate(resultados_loocv):\n",
        "    print(f\"Iteración {i + 1}:\")\n",
        "    print(f\"Conjunto de Entrenamiento: {conjunto_entrenamiento}\")\n",
        "    print(f\"Punto de Prueba: {punto_prueba}\")\n",
        "    print(\"\\n\")"
      ],
      "metadata": {
        "id": "UYbRy9fAGygI",
        "colab": {
          "base_uri": "https://localhost:8080/"
        },
        "outputId": "8a373f2c-7017-4f7d-9857-1a8140c03e5b"
      },
      "execution_count": 24,
      "outputs": [
        {
          "output_type": "stream",
          "name": "stdout",
          "text": [
            "Iteración 1:\n",
            "Conjunto de Entrenamiento: [ 2  3  4  5  6  7  8  9 10]\n",
            "Punto de Prueba: 1\n",
            "\n",
            "\n",
            "Iteración 2:\n",
            "Conjunto de Entrenamiento: [ 1  3  4  5  6  7  8  9 10]\n",
            "Punto de Prueba: 2\n",
            "\n",
            "\n",
            "Iteración 3:\n",
            "Conjunto de Entrenamiento: [ 1  2  4  5  6  7  8  9 10]\n",
            "Punto de Prueba: 3\n",
            "\n",
            "\n",
            "Iteración 4:\n",
            "Conjunto de Entrenamiento: [ 1  2  3  5  6  7  8  9 10]\n",
            "Punto de Prueba: 4\n",
            "\n",
            "\n",
            "Iteración 5:\n",
            "Conjunto de Entrenamiento: [ 1  2  3  4  6  7  8  9 10]\n",
            "Punto de Prueba: 5\n",
            "\n",
            "\n",
            "Iteración 6:\n",
            "Conjunto de Entrenamiento: [ 1  2  3  4  5  7  8  9 10]\n",
            "Punto de Prueba: 6\n",
            "\n",
            "\n",
            "Iteración 7:\n",
            "Conjunto de Entrenamiento: [ 1  2  3  4  5  6  8  9 10]\n",
            "Punto de Prueba: 7\n",
            "\n",
            "\n",
            "Iteración 8:\n",
            "Conjunto de Entrenamiento: [ 1  2  3  4  5  6  7  9 10]\n",
            "Punto de Prueba: 8\n",
            "\n",
            "\n",
            "Iteración 9:\n",
            "Conjunto de Entrenamiento: [ 1  2  3  4  5  6  7  8 10]\n",
            "Punto de Prueba: 9\n",
            "\n",
            "\n",
            "Iteración 10:\n",
            "Conjunto de Entrenamiento: [1 2 3 4 5 6 7 8 9]\n",
            "Punto de Prueba: 10\n",
            "\n",
            "\n"
          ]
        }
      ]
    },
    {
      "cell_type": "markdown",
      "source": [
        "1. Generamos un conjunto de datos de ejemplo con 10 puntos (puedes reemplazarlo por tus datos reales).\n",
        "\n",
        "2. Realizamos LOOCV manualmente en un bucle for. En cada iteración, dejamos un punto de datos fuera como conjunto de prueba (`punto_prueba`) y usamos los demás como conjunto de entrenamiento (`conjunto_entrenamiento`).\n",
        "\n",
        "3. Almacenamos los resultados de cada iteración en una lista llamada `resultados_loocv`, que contiene tuplas con los conjuntos de entrenamiento y los puntos de prueba.\n",
        "\n",
        "4. Finalmente, imprimimos la información sobre los conjuntos de entrenamiento y los puntos de prueba en cada iteración.\n",
        "\n",
        "Este ejemplo ilustra cómo implementar LOOCV sin un modelo, enfocándonos únicamente en la separación de datos."
      ],
      "metadata": {
        "id": "whBpq0-sMHKK"
      }
    }
  ]
}