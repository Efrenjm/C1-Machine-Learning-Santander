{
  "nbformat": 4,
  "nbformat_minor": 0,
  "metadata": {
    "colab": {
      "provenance": []
    },
    "kernelspec": {
      "name": "python3",
      "display_name": "Python 3"
    },
    "language_info": {
      "name": "python"
    }
  },
  "cells": [
    {
      "cell_type": "markdown",
      "source": [
        "# Reto 01: Separación de datos\n",
        "\n",
        "## Objetivo\n",
        "Generar datos simulados y dividirlos en conjuntos de entrenamiento, validación y prueba para su posterior uso en el entrenamiento y evaluación de modelos de Machine Learning."
      ],
      "metadata": {
        "id": "xsZ7M8UxIJ5w"
      }
    },
    {
      "cell_type": "markdown",
      "source": [
        "**Paso 1:** Generar datos simulados\n",
        "\n",
        "Generaremos datos simulados para un problema de regresión. Supongamos que estamos trabajando con datos de ventas de una tienda y queremos predecir las ventas en función de dos características: el precio del producto y la cantidad de publicidad. Generaremos 1000 ejemplos de datos para este ejercicio."
      ],
      "metadata": {
        "id": "68oBXpDgIWU8"
      }
    },
    {
      "cell_type": "code",
      "execution_count": 1,
      "metadata": {
        "id": "Ak_7W-2kIDjq"
      },
      "outputs": [],
      "source": [
        "import numpy as np\n",
        "\n",
        "np.random.seed(0)  # Fijar una semilla para reproducibilidad\n",
        "\n",
        "# Generar 1000 ejemplos de datos simulados\n",
        "precio = np.random.uniform(10, 100, 1000)  # Precio del producto (entre 10 y 100)\n",
        "publicidad = np.random.uniform(1, 50, 1000)  # Cantidad de publicidad (entre 1 y 50)\n",
        "ventas = 20 * precio + 10 * publicidad + np.random.normal(0, 30, 1000)  # Ventas (con ruido)\n",
        "\n",
        "# Crear un DataFrame de pandas para los datos\n",
        "import pandas as pd\n",
        "\n",
        "data = pd.DataFrame({'Precio': precio, 'Publicidad': publicidad, 'Ventas': ventas})"
      ]
    },
    {
      "cell_type": "markdown",
      "source": [
        "**¡AHORA TE TOCA A TI!**"
      ],
      "metadata": {
        "id": "H0kCuaRdIiL5"
      }
    },
    {
      "cell_type": "code",
      "source": [],
      "metadata": {
        "id": "4UhX3_mJIhtG"
      },
      "execution_count": null,
      "outputs": []
    },
    {
      "cell_type": "markdown",
      "source": [
        "**Paso 2:** Dividir los datos en conjuntos de entrenamiento, validación y prueba\n",
        "\n",
        "Divide en la siguiente celda los datos simulados en tres conjuntos: 70% para entrenamiento, 15% para validación y 15% para prueba."
      ],
      "metadata": {
        "id": "z28YXKxZIo41"
      }
    },
    {
      "cell_type": "markdown",
      "source": [
        "Ahora tienes tres conjuntos de datos: entrenamiento, validación y prueba, que puedes utilizar en futuros ejercicios para entrenar y evaluar modelos de regresión."
      ],
      "metadata": {
        "id": "NcF4I5o1Iyks"
      }
    }
  ]
}